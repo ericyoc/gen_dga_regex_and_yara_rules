{
  "nbformat": 4,
  "nbformat_minor": 0,
  "metadata": {
    "colab": {
      "provenance": [],
      "authorship_tag": "ABX9TyMW31VEcRkKLl5IDq76YE59",
      "include_colab_link": true
    },
    "kernelspec": {
      "name": "python3",
      "display_name": "Python 3"
    },
    "language_info": {
      "name": "python"
    }
  },
  "cells": [
    {
      "cell_type": "markdown",
      "metadata": {
        "id": "view-in-github",
        "colab_type": "text"
      },
      "source": [
        "<a href=\"https://colab.research.google.com/github/ericyoc/gen_dga_regex_and_yara_rules/blob/main/ranbyus_dga_example.ipynb\" target=\"_parent\"><img src=\"https://colab.research.google.com/assets/colab-badge.svg\" alt=\"Open In Colab\"/></a>"
      ]
    },
    {
      "cell_type": "code",
      "execution_count": 3,
      "metadata": {
        "colab": {
          "base_uri": "https://localhost:8080/"
        },
        "id": "-lqzt0rlBxTh",
        "outputId": "e0120283-4755-4ef4-e0c6-91789a481672"
      },
      "outputs": [
        {
          "output_type": "stream",
          "name": "stdout",
          "text": [
            "Enter the day: 14\n",
            "Enter the month: 5\n",
            "Enter the year: 2015\n",
            "Enter the seed (in hexadecimal): b6354bc3\n",
            "Enter the number of domains to generate: 5\n",
            "dcpnmjsbvsqblw.com\n",
            "bphnfklfonfcpq.pw\n",
            "xgphogjqiesxej.in\n",
            "gedjbhieelxlta.me\n",
            "dtytudoqoavlhd.cc\n"
          ]
        }
      ],
      "source": [
        "import datetime\n",
        "\n",
        "def dga(day, month, year, seed, nr):\n",
        "    tlds = [\"in\", \"me\", \"cc\", \"su\", \"tw\", \"net\", \"com\", \"pw\", \"org\"]\n",
        "    tld_index = day\n",
        "    for _ in range(nr):\n",
        "        domain = \"\"\n",
        "        for _ in range(14):\n",
        "            day = (day >> 15) ^ 16 * (day & 0x1FFF ^ 4 * (seed ^ day))\n",
        "            year = ((year & 0xFFFFFFF0) << 17) ^ ((year ^ (7 * year)) >> 11)\n",
        "            month = 14 * (month & 0xFFFFFFFE) ^ ((month ^ (4 * month)) >> 8)\n",
        "            seed = (seed >> 6) ^ ((day + 8 * seed) << 8) & 0x3FFFF00\n",
        "            x = ((day ^ month ^ year) % 25) + 97\n",
        "            domain += chr(x)\n",
        "        print(f\"{domain}.{tlds[tld_index % 8]}\")\n",
        "        tld_index += 1\n",
        "\n",
        "def main():\n",
        "    while True:\n",
        "        try:\n",
        "            day = int(input(\"Enter the day: \"))\n",
        "            month = int(input(\"Enter the month: \"))\n",
        "            year = int(input(\"Enter the year: \"))\n",
        "            seed = int(input(\"Enter the seed (in hexadecimal): \"), 16)\n",
        "            nr = int(input(\"Enter the number of domains to generate: \"))\n",
        "            break\n",
        "        except ValueError:\n",
        "            print(\"Invalid input. Please try again.\")\n",
        "\n",
        "    dga(day, month, year, seed, nr)\n",
        "\n",
        "if __name__ == \"__main__\":\n",
        "    main()"
      ]
    }
  ]
}